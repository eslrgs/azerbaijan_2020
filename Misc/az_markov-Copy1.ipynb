{
 "cells": [
  {
   "cell_type": "code",
   "execution_count": 30,
   "metadata": {},
   "outputs": [],
   "source": [
    "import os\n",
    "import numpy as np\n",
    "import matplotlib.pyplot as plt\n",
    "import pandas as pd\n",
    "import seaborn as sns\n",
    "from scipy import stats\n",
    "import networkx as nx\n",
    "from IPython.display import display\n",
    "\n",
    "%matplotlib inline\n"
   ]
  },
  {
   "cell_type": "code",
   "execution_count": 31,
   "metadata": {},
   "outputs": [
    {
     "data": {
      "text/html": [
       "<div>\n",
       "<style scoped>\n",
       "    .dataframe tbody tr th:only-of-type {\n",
       "        vertical-align: middle;\n",
       "    }\n",
       "\n",
       "    .dataframe tbody tr th {\n",
       "        vertical-align: top;\n",
       "    }\n",
       "\n",
       "    .dataframe thead th {\n",
       "        text-align: right;\n",
       "    }\n",
       "</style>\n",
       "<table border=\"1\" class=\"dataframe\">\n",
       "  <thead>\n",
       "    <tr style=\"text-align: right;\">\n",
       "      <th></th>\n",
       "      <th>Bed_Number</th>\n",
       "      <th>beds_1A</th>\n",
       "      <th>gsize_1A</th>\n",
       "      <th>facies_1A</th>\n",
       "      <th>lith_1A</th>\n",
       "      <th>amal_1A</th>\n",
       "      <th>beds_1B</th>\n",
       "      <th>gsize_1B</th>\n",
       "      <th>facies_1B</th>\n",
       "      <th>lith_1B</th>\n",
       "      <th>...</th>\n",
       "      <th>beds_10A</th>\n",
       "      <th>gsize_10A</th>\n",
       "      <th>facies_10A</th>\n",
       "      <th>lith_10A</th>\n",
       "      <th>amal_10A</th>\n",
       "      <th>beds_11A</th>\n",
       "      <th>gsize_11A</th>\n",
       "      <th>facies_11A</th>\n",
       "      <th>lith_11A</th>\n",
       "      <th>amal_11A</th>\n",
       "    </tr>\n",
       "  </thead>\n",
       "  <tbody>\n",
       "    <tr>\n",
       "      <th>0</th>\n",
       "      <td>1</td>\n",
       "      <td>25.0</td>\n",
       "      <td>2.0</td>\n",
       "      <td>1.0</td>\n",
       "      <td>1.0</td>\n",
       "      <td>1.0</td>\n",
       "      <td>39.0</td>\n",
       "      <td>2.0</td>\n",
       "      <td>1.0</td>\n",
       "      <td>1.0</td>\n",
       "      <td>...</td>\n",
       "      <td>5.0</td>\n",
       "      <td>3.0</td>\n",
       "      <td>3.0</td>\n",
       "      <td>1.0</td>\n",
       "      <td>NaN</td>\n",
       "      <td>53.0</td>\n",
       "      <td>3.0</td>\n",
       "      <td>6.0</td>\n",
       "      <td>2.0</td>\n",
       "      <td>NaN</td>\n",
       "    </tr>\n",
       "    <tr>\n",
       "      <th>1</th>\n",
       "      <td>2</td>\n",
       "      <td>8.0</td>\n",
       "      <td>2.0</td>\n",
       "      <td>1.0</td>\n",
       "      <td>1.0</td>\n",
       "      <td>1.0</td>\n",
       "      <td>80.0</td>\n",
       "      <td>5.0</td>\n",
       "      <td>5.0</td>\n",
       "      <td>1.0</td>\n",
       "      <td>...</td>\n",
       "      <td>1.5</td>\n",
       "      <td>1.0</td>\n",
       "      <td>1.0</td>\n",
       "      <td>1.0</td>\n",
       "      <td>NaN</td>\n",
       "      <td>6.0</td>\n",
       "      <td>1.0</td>\n",
       "      <td>1.0</td>\n",
       "      <td>1.0</td>\n",
       "      <td>NaN</td>\n",
       "    </tr>\n",
       "    <tr>\n",
       "      <th>2</th>\n",
       "      <td>3</td>\n",
       "      <td>24.0</td>\n",
       "      <td>3.0</td>\n",
       "      <td>4.0</td>\n",
       "      <td>1.0</td>\n",
       "      <td>0.0</td>\n",
       "      <td>24.0</td>\n",
       "      <td>4.0</td>\n",
       "      <td>4.0</td>\n",
       "      <td>1.0</td>\n",
       "      <td>...</td>\n",
       "      <td>6.0</td>\n",
       "      <td>3.0</td>\n",
       "      <td>3.0</td>\n",
       "      <td>1.0</td>\n",
       "      <td>NaN</td>\n",
       "      <td>10.0</td>\n",
       "      <td>7.0</td>\n",
       "      <td>3.0</td>\n",
       "      <td>2.0</td>\n",
       "      <td>NaN</td>\n",
       "    </tr>\n",
       "    <tr>\n",
       "      <th>3</th>\n",
       "      <td>4</td>\n",
       "      <td>8.0</td>\n",
       "      <td>2.0</td>\n",
       "      <td>1.0</td>\n",
       "      <td>1.0</td>\n",
       "      <td>0.0</td>\n",
       "      <td>1.0</td>\n",
       "      <td>1.0</td>\n",
       "      <td>1.0</td>\n",
       "      <td>1.0</td>\n",
       "      <td>...</td>\n",
       "      <td>10.0</td>\n",
       "      <td>1.0</td>\n",
       "      <td>1.0</td>\n",
       "      <td>1.0</td>\n",
       "      <td>NaN</td>\n",
       "      <td>4.0</td>\n",
       "      <td>2.0</td>\n",
       "      <td>1.0</td>\n",
       "      <td>NaN</td>\n",
       "      <td>NaN</td>\n",
       "    </tr>\n",
       "    <tr>\n",
       "      <th>4</th>\n",
       "      <td>5</td>\n",
       "      <td>15.0</td>\n",
       "      <td>3.0</td>\n",
       "      <td>4.0</td>\n",
       "      <td>1.0</td>\n",
       "      <td>1.0</td>\n",
       "      <td>10.0</td>\n",
       "      <td>2.0</td>\n",
       "      <td>1.0</td>\n",
       "      <td>1.0</td>\n",
       "      <td>...</td>\n",
       "      <td>15.0</td>\n",
       "      <td>3.0</td>\n",
       "      <td>4.0</td>\n",
       "      <td>1.0</td>\n",
       "      <td>NaN</td>\n",
       "      <td>1.0</td>\n",
       "      <td>3.0</td>\n",
       "      <td>3.0</td>\n",
       "      <td>1.0</td>\n",
       "      <td>1.0</td>\n",
       "    </tr>\n",
       "  </tbody>\n",
       "</table>\n",
       "<p>5 rows × 106 columns</p>\n",
       "</div>"
      ],
      "text/plain": [
       "   Bed_Number  beds_1A  gsize_1A  facies_1A  lith_1A  amal_1A  beds_1B  \\\n",
       "0           1     25.0       2.0        1.0      1.0      1.0     39.0   \n",
       "1           2      8.0       2.0        1.0      1.0      1.0     80.0   \n",
       "2           3     24.0       3.0        4.0      1.0      0.0     24.0   \n",
       "3           4      8.0       2.0        1.0      1.0      0.0      1.0   \n",
       "4           5     15.0       3.0        4.0      1.0      1.0     10.0   \n",
       "\n",
       "   gsize_1B  facies_1B  lith_1B  ...  beds_10A  gsize_10A  facies_10A  \\\n",
       "0       2.0        1.0      1.0  ...       5.0        3.0         3.0   \n",
       "1       5.0        5.0      1.0  ...       1.5        1.0         1.0   \n",
       "2       4.0        4.0      1.0  ...       6.0        3.0         3.0   \n",
       "3       1.0        1.0      1.0  ...      10.0        1.0         1.0   \n",
       "4       2.0        1.0      1.0  ...      15.0        3.0         4.0   \n",
       "\n",
       "   lith_10A  amal_10A  beds_11A  gsize_11A  facies_11A  lith_11A  amal_11A  \n",
       "0       1.0       NaN      53.0        3.0         6.0       2.0       NaN  \n",
       "1       1.0       NaN       6.0        1.0         1.0       1.0       NaN  \n",
       "2       1.0       NaN      10.0        7.0         3.0       2.0       NaN  \n",
       "3       1.0       NaN       4.0        2.0         1.0       NaN       NaN  \n",
       "4       1.0       NaN       1.0        3.0         3.0       1.0       1.0  \n",
       "\n",
       "[5 rows x 106 columns]"
      ]
     },
     "execution_count": 31,
     "metadata": {},
     "output_type": "execute_result"
    }
   ],
   "source": [
    "os.chdir(\"/Users/euan-soutter/Desktop/Python/Field_Data/Azerbaijan/Data\") # Sets working directory\n",
    "df = pd.read_csv(\"az_beds.csv\",encoding = 'unicode_escape') # Loads data from working directory and assigns name 'df'\n",
    "df.head()# Displays statistical descriptions of df"
   ]
  },
  {
   "cell_type": "code",
   "execution_count": 32,
   "metadata": {
    "scrolled": false
   },
   "outputs": [
    {
     "data": {
      "text/plain": [
       "array([ 1.,  3.,  1.,  3.,  1.,  3.,  1.,  4.,  3.,  1.,  4.,  1.,  3.,\n",
       "        1.,  3.,  3.,  1.,  3.,  1.,  3.,  1.,  3.,  1.,  4.,  1.,  4.,\n",
       "        1.,  3.,  1.,  1.,  3.,  1.,  3.,  1.,  4.,  1.,  3.,  1.,  3.,\n",
       "        3.,  1.,  3.,  3.,  1.,  3.,  3.,  1.,  3.,  4.,  1.,  3.,  1.,\n",
       "        3.,  1.,  3.,  4.,  1.,  3.,  3.,  1.,  3.,  1.,  3.,  1.,  3.,\n",
       "        1.,  3.,  1.,  3.,  1.,  3.,  1.,  3.,  1.,  3.,  1.,  3.,  1.,\n",
       "        3.,  1.,  3.,  7.,  1.,  3.,  1.,  3.,  1.,  3.,  1.,  4.,  1.,\n",
       "        4.,  1.,  4.,  1.,  4.,  1.,  4.,  1.,  3.,  1.,  3.,  3.,  4.,\n",
       "        1.,  3.,  1.,  3.,  1.,  3.,  3.,  3.,  3.,  1.,  3.,  1.,  3.,\n",
       "        1.,  3.,  1.,  1.,  7., nan, nan, nan, nan, nan, nan, nan, nan,\n",
       "       nan, nan, nan, nan, nan, nan, nan, nan, nan, nan, nan, nan, nan,\n",
       "       nan, nan, nan, nan, nan, nan, nan, nan, nan, nan, nan, nan, nan,\n",
       "       nan, nan, nan, nan, nan, nan, nan, nan, nan, nan, nan, nan, nan,\n",
       "       nan, nan, nan, nan, nan, nan, nan, nan, nan, nan, nan, nan, nan,\n",
       "       nan, nan, nan, nan, nan, nan, nan, nan, nan, nan, nan, nan, nan,\n",
       "       nan, nan, nan, nan, nan, nan, nan, nan, nan, nan, nan, nan, nan,\n",
       "       nan, nan, nan, nan, nan, nan, nan, nan, nan, nan, nan, nan, nan,\n",
       "       nan, nan, nan, nan, nan, nan, nan, nan, nan, nan, nan, nan, nan,\n",
       "       nan, nan, nan, nan, nan, nan, nan, nan, nan, nan, nan, nan, nan,\n",
       "       nan, nan, nan, nan, nan, nan, nan, nan, nan, nan, nan, nan, nan,\n",
       "       nan, nan, nan, nan, nan, nan, nan, nan, nan, nan, nan, nan, nan,\n",
       "       nan, nan, nan, nan, nan, nan, nan, nan, nan, nan, nan, nan, nan,\n",
       "       nan, nan, nan, nan, nan, nan, nan, nan, nan, nan, nan, nan, nan,\n",
       "       nan, nan, nan, nan, nan, nan, nan, nan, nan, nan, nan, nan, nan,\n",
       "       nan, nan, nan, nan, nan, nan, nan, nan, nan, nan, nan, nan, nan,\n",
       "       nan, nan, nan, nan, nan, nan, nan, nan, nan, nan, nan, nan, nan,\n",
       "       nan, nan, nan, nan, nan, nan, nan, nan, nan, nan, nan, nan, nan,\n",
       "       nan, nan, nan, nan, nan, nan, nan, nan, nan, nan, nan, nan, nan,\n",
       "       nan, nan, nan, nan, nan, nan, nan, nan, nan, nan, nan, nan, nan,\n",
       "       nan, nan, nan, nan, nan, nan, nan, nan, nan, nan, nan, nan, nan,\n",
       "       nan, nan, nan, nan, nan, nan, nan, nan, nan, nan, nan, nan, nan,\n",
       "       nan, nan, nan, nan, nan, nan, nan, nan, nan, nan, nan, nan, nan,\n",
       "       nan, nan, nan, nan, nan, nan, nan, nan, nan, nan, nan, nan, nan,\n",
       "       nan, nan, nan, nan, nan, nan, nan, nan, nan, nan, nan, nan, nan,\n",
       "       nan, nan, nan, nan, nan, nan, nan, nan, nan, nan])"
      ]
     },
     "execution_count": 32,
     "metadata": {},
     "output_type": "execute_result"
    }
   ],
   "source": [
    "df.facies_5C.values"
   ]
  },
  {
   "cell_type": "code",
   "execution_count": 39,
   "metadata": {},
   "outputs": [],
   "source": [
    "facies_5C = [1.,  3.,  1.,  3.,  1.,  3.,  1.,  4.,  3.,  1.,  4.,  1.,  3.,\n",
    "        1.,  3.,  3.,  1.,  3.,  1.,  3.,  1.,  3.,  1.,  4.,  1.,  4.,\n",
    "        1.,  3.,  1.,  1.,  3.,  1.,  3.,  1.,  4.,  1.,  3.,  1.,  3.,\n",
    "        3.,  1.,  3.,  3.,  1.,  3.,  3.,  1.,  3.,  4.,  1.,  3.,  1.,\n",
    "        3.,  1.,  3.,  4.,  1.,  3.,  3.,  1.,  3.,  1.,  3.,  1.,  3.,\n",
    "        1.,  3.,  1.,  3.,  1.,  3.,  1.,  3.,  1.,  3.,  1.,  3.,  1.,\n",
    "        3.,  1.,  3.,  7.,  1.,  3.,  1.,  3.,  1.,  3.,  1.,  4.,  1.,\n",
    "        4.,  1.,  4.,  1.,  4.,  1.,  4.,  1.,  3.,  1.,  3.,  3.,  4.,\n",
    "        1.,  3.,  1.,  3.,  1.,  3.,  3.,  3.,  3.,  1.,  3.,  1.,  3.,\n",
    "        1.,  3.,  1.,  1.,  7]"
   ]
  },
  {
   "cell_type": "code",
   "execution_count": 40,
   "metadata": {
    "scrolled": false
   },
   "outputs": [
    {
     "data": {
      "text/plain": [
       "array([[0.03703704, 0.72222222, 0.22222222, 0.01851852],\n",
       "       [0.80769231, 0.17307692, 0.01923077, 0.        ],\n",
       "       [0.76923077, 0.23076923, 0.        , 0.        ],\n",
       "       [0.5       , 0.5       , 0.        , 0.        ]])"
      ]
     },
     "execution_count": 40,
     "metadata": {},
     "output_type": "execute_result"
    }
   ],
   "source": [
    "pd.crosstab(pd.Series(facies_5C[1:],name='Tomorrow'),\n",
    "            pd.Series(facies_5C[:-1],name='Today'),normalize=0).values"
   ]
  },
  {
   "cell_type": "code",
   "execution_count": 41,
   "metadata": {
    "scrolled": true
   },
   "outputs": [
    {
     "data": {
      "text/html": [
       "<div>\n",
       "<style scoped>\n",
       "    .dataframe tbody tr th:only-of-type {\n",
       "        vertical-align: middle;\n",
       "    }\n",
       "\n",
       "    .dataframe tbody tr th {\n",
       "        vertical-align: top;\n",
       "    }\n",
       "\n",
       "    .dataframe thead th {\n",
       "        text-align: right;\n",
       "    }\n",
       "</style>\n",
       "<table border=\"1\" class=\"dataframe\">\n",
       "  <thead>\n",
       "    <tr style=\"text-align: right;\">\n",
       "      <th>Today</th>\n",
       "      <th>1.0</th>\n",
       "      <th>3.0</th>\n",
       "      <th>4.0</th>\n",
       "      <th>7.0</th>\n",
       "    </tr>\n",
       "    <tr>\n",
       "      <th>Tomorrow</th>\n",
       "      <th></th>\n",
       "      <th></th>\n",
       "      <th></th>\n",
       "      <th></th>\n",
       "    </tr>\n",
       "  </thead>\n",
       "  <tbody>\n",
       "    <tr>\n",
       "      <th>1.0</th>\n",
       "      <td>0.04</td>\n",
       "      <td>0.72</td>\n",
       "      <td>0.22</td>\n",
       "      <td>0.02</td>\n",
       "    </tr>\n",
       "    <tr>\n",
       "      <th>3.0</th>\n",
       "      <td>0.81</td>\n",
       "      <td>0.17</td>\n",
       "      <td>0.02</td>\n",
       "      <td>0.00</td>\n",
       "    </tr>\n",
       "    <tr>\n",
       "      <th>4.0</th>\n",
       "      <td>0.77</td>\n",
       "      <td>0.23</td>\n",
       "      <td>0.00</td>\n",
       "      <td>0.00</td>\n",
       "    </tr>\n",
       "    <tr>\n",
       "      <th>7.0</th>\n",
       "      <td>0.50</td>\n",
       "      <td>0.50</td>\n",
       "      <td>0.00</td>\n",
       "      <td>0.00</td>\n",
       "    </tr>\n",
       "  </tbody>\n",
       "</table>\n",
       "</div>"
      ],
      "text/plain": [
       "Today      1.0   3.0   4.0   7.0\n",
       "Tomorrow                        \n",
       "1.0       0.04  0.72  0.22  0.02\n",
       "3.0       0.81  0.17  0.02  0.00\n",
       "4.0       0.77  0.23  0.00  0.00\n",
       "7.0       0.50  0.50  0.00  0.00"
      ]
     },
     "execution_count": 41,
     "metadata": {},
     "output_type": "execute_result"
    }
   ],
   "source": [
    "series = pd.crosstab(pd.Series(facies_5C[1:],name='Tomorrow'),\n",
    "            pd.Series(facies_5C[:-1],name='Today'),normalize=0)\n",
    "series.round(2)"
   ]
  },
  {
   "cell_type": "code",
   "execution_count": 47,
   "metadata": {
    "scrolled": true
   },
   "outputs": [
    {
     "ename": "NameError",
     "evalue": "name 'state_space' is not defined",
     "output_type": "error",
     "traceback": [
      "\u001b[0;31m---------------------------------------------------------------------------\u001b[0m",
      "\u001b[0;31mNameError\u001b[0m                                 Traceback (most recent call last)",
      "\u001b[0;32m<ipython-input-47-b9ccb7bd932c>\u001b[0m in \u001b[0;36m<module>\u001b[0;34m\u001b[0m\n\u001b[1;32m      2\u001b[0m \u001b[0mpi\u001b[0m \u001b[0;34m=\u001b[0m \u001b[0mseries\u001b[0m\u001b[0;34m.\u001b[0m\u001b[0mloc\u001b[0m\u001b[0;34m[\u001b[0m\u001b[0;36m1.0\u001b[0m\u001b[0;34m,\u001b[0m\u001b[0;34m:\u001b[0m\u001b[0;34m]\u001b[0m\u001b[0;34m.\u001b[0m\u001b[0mvalues\u001b[0m\u001b[0;34m\u001b[0m\u001b[0;34m\u001b[0m\u001b[0m\n\u001b[1;32m      3\u001b[0m \u001b[0mpi\u001b[0m \u001b[0;34m=\u001b[0m \u001b[0mpd\u001b[0m\u001b[0;34m.\u001b[0m\u001b[0mSeries\u001b[0m\u001b[0;34m(\u001b[0m\u001b[0mpi\u001b[0m\u001b[0;34m,\u001b[0m \u001b[0mindex\u001b[0m\u001b[0;34m=\u001b[0m\u001b[0mstates\u001b[0m\u001b[0;34m,\u001b[0m \u001b[0mname\u001b[0m\u001b[0;34m=\u001b[0m\u001b[0;34m'states'\u001b[0m\u001b[0;34m)\u001b[0m\u001b[0;34m\u001b[0m\u001b[0;34m\u001b[0m\u001b[0m\n\u001b[0;32m----> 4\u001b[0;31m \u001b[0mprint\u001b[0m\u001b[0;34m(\u001b[0m\u001b[0mstate_space\u001b[0m\u001b[0;34m)\u001b[0m\u001b[0;34m\u001b[0m\u001b[0;34m\u001b[0m\u001b[0m\n\u001b[0m\u001b[1;32m      5\u001b[0m \u001b[0mprint\u001b[0m\u001b[0;34m(\u001b[0m\u001b[0mstate_space\u001b[0m\u001b[0;34m.\u001b[0m\u001b[0msum\u001b[0m\u001b[0;34m(\u001b[0m\u001b[0;34m)\u001b[0m\u001b[0;34m)\u001b[0m\u001b[0;34m\u001b[0m\u001b[0;34m\u001b[0m\u001b[0m\n",
      "\u001b[0;31mNameError\u001b[0m: name 'state_space' is not defined"
     ]
    }
   ],
   "source": [
    "states = [('1'),('3'),('4'),('7')]\n",
    "pi = series.loc[1.0,:].values      \n",
    "pi = pd.Series(pi, index=states, name='states')\n",
    "print(state_space)\n",
    "print(state_space.sum())"
   ]
  },
  {
   "cell_type": "code",
   "execution_count": 48,
   "metadata": {},
   "outputs": [
    {
     "data": {
      "text/html": [
       "<div>\n",
       "<style scoped>\n",
       "    .dataframe tbody tr th:only-of-type {\n",
       "        vertical-align: middle;\n",
       "    }\n",
       "\n",
       "    .dataframe tbody tr th {\n",
       "        vertical-align: top;\n",
       "    }\n",
       "\n",
       "    .dataframe thead th {\n",
       "        text-align: right;\n",
       "    }\n",
       "</style>\n",
       "<table border=\"1\" class=\"dataframe\">\n",
       "  <thead>\n",
       "    <tr style=\"text-align: right;\">\n",
       "      <th></th>\n",
       "      <th>1</th>\n",
       "      <th>3</th>\n",
       "      <th>4</th>\n",
       "      <th>7</th>\n",
       "    </tr>\n",
       "  </thead>\n",
       "  <tbody>\n",
       "    <tr>\n",
       "      <th>1</th>\n",
       "      <td>0.04</td>\n",
       "      <td>0.72</td>\n",
       "      <td>0.22</td>\n",
       "      <td>0.02</td>\n",
       "    </tr>\n",
       "    <tr>\n",
       "      <th>3</th>\n",
       "      <td>0.81</td>\n",
       "      <td>0.17</td>\n",
       "      <td>0.02</td>\n",
       "      <td>0</td>\n",
       "    </tr>\n",
       "    <tr>\n",
       "      <th>4</th>\n",
       "      <td>0.77</td>\n",
       "      <td>0.23</td>\n",
       "      <td>0</td>\n",
       "      <td>0</td>\n",
       "    </tr>\n",
       "    <tr>\n",
       "      <th>7</th>\n",
       "      <td>0.5</td>\n",
       "      <td>0.5</td>\n",
       "      <td>0</td>\n",
       "      <td>0</td>\n",
       "    </tr>\n",
       "  </tbody>\n",
       "</table>\n",
       "</div>"
      ],
      "text/plain": [
       "      1     3     4     7\n",
       "1  0.04  0.72  0.22  0.02\n",
       "3  0.81  0.17  0.02     0\n",
       "4  0.77  0.23     0     0\n",
       "7   0.5   0.5     0     0"
      ]
     },
     "metadata": {},
     "output_type": "display_data"
    },
    {
     "name": "stdout",
     "output_type": "stream",
     "text": [
      "\n",
      " [[0.04 0.72 0.22 0.02]\n",
      " [0.81 0.17 0.02 0.0]\n",
      " [0.77 0.23 0.0 0.0]\n",
      " [0.5 0.5 0.0 0.0]] (4, 4) \n",
      "\n",
      "1    1.0\n",
      "3    1.0\n",
      "4    1.0\n",
      "7    1.0\n",
      "dtype: float64\n"
     ]
    }
   ],
   "source": [
    "q_df = pd.DataFrame(columns=states, index=states)\n",
    "q_df.loc[states[0]] = series.loc[1.0,:].values.round(2)      \n",
    "q_df.loc[states[1]] = series.loc[3.0,:].values.round(2)  \n",
    "q_df.loc[states[2]] = series.loc[4.0,:].values.round(2)   \n",
    "q_df.loc[states[3]] = series.loc[7.0,:].values.round(2) \n",
    "# q_df.loc[states[6]] = series.loc[7.0,:].values.round(2) \n",
    "\n",
    "display(q_df)\n",
    "\n",
    "q_df.to_excel(\"/Users/euan-soutter/Desktop/Python/Field_Data/Azerbaijan/Markov/markov_facies_5C.xlsx\")\n",
    "q_df.to_csv(\"/Users/euan-soutter/Desktop/Python/Field_Data/Azerbaijan/Markov/markov_facies_5C.csv\")\n",
    "\n",
    "q = q_df.values\n",
    "print('\\n', q, q.shape, '\\n')\n",
    "print(q_df.sum(axis=1))"
   ]
  },
  {
   "cell_type": "code",
   "execution_count": 49,
   "metadata": {},
   "outputs": [
    {
     "name": "stdout",
     "output_type": "stream",
     "text": [
      "{('1', '1'): 0.04,\n",
      " ('1', '3'): 0.72,\n",
      " ('1', '4'): 0.22,\n",
      " ('1', '7'): 0.02,\n",
      " ('3', '1'): 0.81,\n",
      " ('3', '3'): 0.17,\n",
      " ('3', '4'): 0.02,\n",
      " ('3', '7'): 0.0,\n",
      " ('4', '1'): 0.77,\n",
      " ('4', '3'): 0.23,\n",
      " ('4', '4'): 0.0,\n",
      " ('4', '7'): 0.0,\n",
      " ('7', '1'): 0.5,\n",
      " ('7', '3'): 0.5,\n",
      " ('7', '4'): 0.0,\n",
      " ('7', '7'): 0.0}\n"
     ]
    }
   ],
   "source": [
    "from pprint import pprint \n",
    "\n",
    "# create a function that maps transition probability dataframe \n",
    "# to markov edges and weights\n",
    "\n",
    "def _get_markov_edges(Q):\n",
    "    edges = {}\n",
    "    for col in Q.columns:\n",
    "        for idx in Q.index:\n",
    "            edges[(idx,col)] = Q.loc[idx,col]\n",
    "    return edges\n",
    "\n",
    "edges_wts = _get_markov_edges(q_df)\n",
    "            \n",
    "pprint(edges_wts)"
   ]
  },
  {
   "cell_type": "code",
   "execution_count": 50,
   "metadata": {},
   "outputs": [
    {
     "name": "stdout",
     "output_type": "stream",
     "text": [
      "Nodes:\n",
      "['1', '3', '4', '7']\n",
      "\n",
      "Edges:\n",
      "OutMultiEdgeDataView([('1', '1', {'weight': 0.04, 'label': 0.04}), ('1', '3', {'weight': 0.72, 'label': 0.72}), ('1', '4', {'weight': 0.22, 'label': 0.22}), ('1', '7', {'weight': 0.02, 'label': 0.02}), ('3', '1', {'weight': 0.81, 'label': 0.81}), ('3', '3', {'weight': 0.17, 'label': 0.17}), ('3', '4', {'weight': 0.02, 'label': 0.02}), ('3', '7', {'weight': 0.0, 'label': 0.0}), ('4', '1', {'weight': 0.77, 'label': 0.77}), ('4', '3', {'weight': 0.23, 'label': 0.23}), ('4', '4', {'weight': 0.0, 'label': 0.0}), ('4', '7', {'weight': 0.0, 'label': 0.0}), ('7', '1', {'weight': 0.5, 'label': 0.5}), ('7', '3', {'weight': 0.5, 'label': 0.5}), ('7', '4', {'weight': 0.0, 'label': 0.0}), ('7', '7', {'weight': 0.0, 'label': 0.0})])\n"
     ]
    },
    {
     "name": "stderr",
     "output_type": "stream",
     "text": [
      "/Users/euan-soutter/anaconda3/envs/field_data/lib/python3.7/site-packages/networkx/drawing/nx_pylab.py:579: MatplotlibDeprecationWarning: \n",
      "The iterable function was deprecated in Matplotlib 3.1 and will be removed in 3.3. Use np.iterable instead.\n",
      "  if not cb.iterable(width):\n",
      "/Users/euan-soutter/anaconda3/envs/field_data/lib/python3.7/site-packages/networkx/drawing/nx_pylab.py:676: MatplotlibDeprecationWarning: \n",
      "The iterable function was deprecated in Matplotlib 3.1 and will be removed in 3.3. Use np.iterable instead.\n",
      "  if cb.iterable(node_size):  # many node sizes\n"
     ]
    },
    {
     "data": {
      "image/png": "[encoded data removed]",
      "text/plain": [
       "<Figure size 1440x720 with 1 Axes>"
      ]
     },
     "metadata": {},
     "output_type": "display_data"
    }
   ],
   "source": [
    "# create graph object\n",
    "fig, ax = plt.subplots(figsize=(20,10))\n",
    "\n",
    "G = nx.MultiDiGraph()\n",
    "\n",
    "# nodes correspond to states\n",
    "G.add_nodes_from(states)\n",
    "print(f'Nodes:\\n{G.nodes()}\\n')\n",
    "\n",
    "# edges represent transition probabilities\n",
    "for k, v in edges_wts.items():\n",
    "    tmp_origin, tmp_destination = k[0], k[1]\n",
    "    G.add_edge(tmp_origin, tmp_destination, weight=v, label=v)\n",
    "print(f'Edges:')\n",
    "pprint(G.edges(data=True))    \n",
    "\n",
    "pos = nx.drawing.nx_pydot.graphviz_layout(G, prog='dot')\n",
    "nx.draw_networkx(G, pos)\n",
    "\n",
    "# create edge labels for jupyter plot but is not necessary\n",
    "edge_labels = {(n1,n2):d['label'] for n1,n2,d in G.edges(data=True)}\n",
    "nx.draw_networkx_edge_labels(G , pos, edge_labels=edge_labels)\n",
    "nx.drawing.nx_pydot.write_dot(G, 'core_m27_m5_4_markov.dot')"
   ]
  }
 ],
 "metadata": {
  "kernelspec": {
   "display_name": "field_data",
   "language": "python",
   "name": "field_data"
  },
  "language_info": {
   "codemirror_mode": {
    "name": "ipython",
    "version": 3
   },
   "file_extension": ".py",
   "mimetype": "text/x-python",
   "name": "python",
   "nbconvert_exporter": "python",
   "pygments_lexer": "ipython3",
   "version": "3.7.3"
  }
 },
 "nbformat": 4,
 "nbformat_minor": 2
}
